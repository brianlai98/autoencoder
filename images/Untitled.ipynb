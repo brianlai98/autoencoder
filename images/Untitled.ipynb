{
 "cells": [
  {
   "cell_type": "code",
   "execution_count": 4,
   "metadata": {},
   "outputs": [],
   "source": [
    "from pathlib import Path\n",
    "import random"
   ]
  },
  {
   "cell_type": "code",
   "execution_count": 8,
   "metadata": {},
   "outputs": [
    {
     "data": {
      "text/plain": [
       "2306"
      ]
     },
     "execution_count": 8,
     "metadata": {},
     "output_type": "execute_result"
    }
   ],
   "source": [
    "fps = Path('.').rglob('*.jpg')\n",
    "fps = list(fps)\n",
    "fps = ['/' + str(x) for x in fps]\n",
    "random.shuffle(fps)\n",
    "len(fps)"
   ]
  },
  {
   "cell_type": "code",
   "execution_count": 9,
   "metadata": {},
   "outputs": [
    {
     "data": {
      "text/plain": [
       "'/images/silk_spot/img_05_4406645900_00121.jpg'"
      ]
     },
     "execution_count": 9,
     "metadata": {},
     "output_type": "execute_result"
    }
   ],
   "source": [
    "fps[0]"
   ]
  },
  {
   "cell_type": "code",
   "execution_count": 10,
   "metadata": {},
   "outputs": [],
   "source": [
    "!mkdir ImageSets"
   ]
  },
  {
   "cell_type": "code",
   "execution_count": 11,
   "metadata": {},
   "outputs": [],
   "source": [
    "sz = len(fps)\n",
    "f = open('./ImageSets/train.txt', 'w+')\n",
    "for fp in fps[:int(0.8*sz)]:\n",
    "    line = '{} {}\\n'.format(fp, fp)\n",
    "    f.write(line)\n",
    "    \n",
    "f.close()\n",
    "\n",
    "f = open('./ImageSets/val.txt', 'w+')\n",
    "for fp in fps[int(0.8*sz):]:\n",
    "    line = '{} {}\\n'.format(fp, fp)\n",
    "    f.write(line)\n",
    "    \n",
    "f.close()"
   ]
  },
  {
   "cell_type": "code",
   "execution_count": null,
   "metadata": {},
   "outputs": [],
   "source": []
  }
 ],
 "metadata": {
  "kernelspec": {
   "display_name": "Python 3",
   "language": "python",
   "name": "python3"
  },
  "language_info": {
   "codemirror_mode": {
    "name": "ipython",
    "version": 3
   },
   "file_extension": ".py",
   "mimetype": "text/x-python",
   "name": "python",
   "nbconvert_exporter": "python",
   "pygments_lexer": "ipython3",
   "version": "3.6.9"
  }
 },
 "nbformat": 4,
 "nbformat_minor": 4
}
